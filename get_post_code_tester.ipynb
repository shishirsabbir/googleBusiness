{
 "cells": [
  {
   "cell_type": "code",
   "execution_count": 1,
   "metadata": {},
   "outputs": [],
   "source": [
    "import re\n",
    "import os\n",
    "import csv\n",
    "import json\n",
    "import requests\n",
    "from urllib import parse\n",
    "from bs4 import BeautifulSoup\n",
    "from locals.output_data import exportData\n",
    "from locals.automate import By, Keys, EC, Action, wait_for, genBrowser, driverWait"
   ]
  },
  {
   "cell_type": "code",
   "execution_count": 2,
   "metadata": {},
   "outputs": [
    {
     "name": "stdout",
     "output_type": "stream",
     "text": [
      "150\n"
     ]
    }
   ],
   "source": [
    "file_name = input('File Name: ')\n",
    "\n",
    "with open(f'./data_init/json/{file_name}.json', mode='r') as json_file:\n",
    "    json_data = json_file.read()\n",
    "    data_list = json.loads(json_data)\n",
    "    print(len(data_list))"
   ]
  },
  {
   "cell_type": "code",
   "execution_count": 3,
   "metadata": {},
   "outputs": [],
   "source": [
    "# done list\n",
    "\n",
    "# 1. dog_trainers-sydney\n",
    "# 2. dog_trainers-adelaide\n",
    "# 3. dog_trainers-brisbane\n",
    "# 4. dog_trainers-melbourne\n",
    "\n",
    "\n",
    "# 1. dog_groomers-sydney\n",
    "# 2. dog_groomers-adelaide\n",
    "# 3. dog_groomers-brisbane\n",
    "# 4. dog_groomers-melbourne"
   ]
  },
  {
   "cell_type": "code",
   "execution_count": 4,
   "metadata": {},
   "outputs": [],
   "source": [
    "#################################\n",
    "# altogether"
   ]
  },
  {
   "cell_type": "code",
   "execution_count": 5,
   "metadata": {},
   "outputs": [],
   "source": [
    "new_data_list = []"
   ]
  },
  {
   "cell_type": "code",
   "execution_count": 6,
   "metadata": {},
   "outputs": [
    {
     "name": "stdout",
     "output_type": "stream",
     "text": [
      "3205 {'title': 'Kloud9Pet', 'phone': '+61 423 069 067', 'rating': '4.5', 'review': '111', 'address': 'South Melbourne VIC, Australia', 'website': 'http://kloud9pet.com.au/?nocache=1'}\n",
      "3207 {'title': 'Ange Pet Salon Port Melbourne', 'phone': '+61 3 9646 5150', 'rating': '4.3', 'review': '115', 'address': 'Port Melbourne VIC, Australia', 'website': 'http://www.murphyspaw.com.au/'}\n",
      "- {'title': 'She Walks', 'phone': '--Not Provided--', 'rating': '5.0', 'review': '45', 'address': '--Not Provided--', 'website': 'https://shewalks.com.au/?utm_source=Google&utm_medium=Organic&utm_campaign=GMB'}\n",
      "3205 {'title': 'John Paul Pooches', 'phone': '+61 449 588 247', 'rating': '5.0', 'review': '29', 'address': 'South Melbourne VIC, Australia', 'website': 'https://johnpaulpooches.com.au/'}\n",
      "3002 {'title': 'Hachi & Co - Melbourne City | Dog Grooming', 'phone': '--Not Provided--', 'rating': '4.9', 'review': '20', 'address': 'Melbourne VIC, Australia', 'website': 'http://www.hachiandco.com.au/'}\n",
      "3021 {'title': 'Groom-me by Lisa-Marie', 'phone': '+61 3 9939 1079', 'rating': '4.5', 'review': '139', 'address': 'St Kilda VIC, Australia', 'website': 'http://www.groom-me.com.au/'}\n",
      "- {'title': \"Foxy's Mobile Dog Washing & Grooming Service\", 'phone': '+61 407 965 085', 'rating': '4.0', 'review': '30', 'address': '--Not Provided--', 'website': 'http://foxysmobiledogwash.com.au/'}\n",
      "3163 {'title': 'Top 2 Tail', 'phone': '+61 448 178 381', 'rating': '4.4', 'review': '72', 'address': 'Murrumbeena VIC, Australia', 'website': 'http://www.top2tailmelbourne.com/'}\n",
      "3021 {'title': 'Shaggy Doo Mobile Dog Grooming', 'phone': '+61 421 178 517', 'rating': '5.0', 'review': '39', 'address': 'St Kilda East VIC, Australia', 'website': 'http://www.shaggydoo.com.au/'}\n",
      "3066 {'title': 'Pinup Pooch Dog Grooming', 'phone': '+61 421 804 547', 'rating': '5.0', 'review': '41', 'address': 'Collingwood VIC, Australia', 'website': 'https://www.facebook.com/Pinup-Pooch-Dog-Grooming-503615656437411/'}\n",
      "3073 {'title': 'Sandy Paws Dog Grooming Reservoir | Dog grooming near Preston | Thomastown | Bundoora', 'phone': '+61 3 8590 8901', 'rating': '4.9', 'review': '136', 'address': 'Reservoir VIC, Australia', 'website': 'https://sandypaws3073.square.site/'}\n",
      "3184 {'title': 'Petiquette by Caroline 🐕 Dog Grooming & Wash', 'phone': '+61 452 056 723', 'rating': '4.6', 'review': '130', 'address': 'Elwood VIC, Australia', 'website': 'https://www.petiquettebycaroline.com.au/'}\n",
      "3144 {'title': \"Wen's Dog Grooming Salon\", 'phone': '+61 3 8528 3422', 'rating': '4.2', 'review': '75', 'address': 'Malvern VIC, Australia', 'website': 'https://www.wensdoggrooming.com/'}\n",
      "3032 {'title': 'Crackin Dog Grooming', 'phone': '+61 490 410 839', 'rating': '4.6', 'review': '65', 'address': 'Ascot Vale VIC, Australia', 'website': 'http://www.crackindoggrooming.com.au/'}\n",
      "3021 {'title': 'Ange Pet Salon St Kilda', 'phone': '+61 422 681 955', 'rating': '4.7', 'review': '28', 'address': 'St Kilda VIC, Australia', 'website': 'https://www.alphapet.com.au/pet-grooming-services/'}\n",
      "3121 {'title': 'My Fluffy Dog Grooming Services', 'phone': '+61 499 310 013', 'rating': '5.0', 'review': '31', 'address': 'Richmond VIC, Australia', 'website': 'http://www.myfluffydog.com/'}\n",
      "3070 {'title': 'Pretty Kitty!', 'phone': '+61 3 9489 4334', 'rating': '4.9', 'review': '143', 'address': 'Northcote VIC, Australia', 'website': 'https://www.prettykittyvic.com.au/'}\n",
      "3150 {'title': 'Superb Dog Grooming', 'phone': '+61 406 298 111', 'rating': '4.9', 'review': '221', 'address': 'Wheelers Hill VIC, Australia', 'website': 'http://www.superbgrooming.com.au/'}\n",
      "3161 {'title': 'P2 Pets ( Dog & Cat Grooming )', 'phone': '+61 451 229 274', 'rating': '4.7', 'review': '69', 'address': 'Caulfield North VIC, Australia', 'website': 'http://www.p2pets.com.au/'}\n",
      "- {'title': 'Western Dogwash', 'phone': '+61 409 806 121', 'rating': '4.1', 'review': '26', 'address': '--Not Provided--', 'website': 'http://westerndogwash.com.au/'}\n",
      "- {'title': \"Tani's Mobile Doggy Wash\", 'phone': '+61 434 256 817', 'rating': '4.3', 'review': '53', 'address': '--Not Provided--', 'website': 'http://www.tanismobiledoggywash.com.au/'}\n",
      "- {'title': 'Howdy Dog Grooming', 'phone': '+61 421 880 408', 'rating': '4.9', 'review': '13', 'address': '--Not Provided--', 'website': 'http://www.howdydoggrooming.com/'}\n",
      "3073 {'title': 'K9 Design Studio | Reservoir Dog Grooming', 'phone': '+61 421 865 850', 'rating': '4.7', 'review': '105', 'address': 'Reservoir VIC, Australia', 'website': 'http://www.facebook.com/k9designstudio'}\n",
      "3165 {'title': 'Doggies Day Out Dog Grooming', 'phone': '+61 403 418 835', 'rating': '4.3', 'review': '97', 'address': 'Bentleigh VIC, Australia', 'website': 'https://www.doggiesdayout.com.au/'}\n",
      "- {'title': 'The Pawfect Touch - Dog Grooming Salon, Dog wash Oakleigh', 'phone': '+61 452 303 400', 'rating': '4.7', 'review': '19', 'address': '--Not Provided--', 'website': 'https://www.thepawfecttouchsalon.com.au/'}\n",
      "3125 {'title': 'The Dog Dazzlers', 'phone': '+61 3 9808 3289', 'rating': '4.7', 'review': '149', 'address': 'Burwood VIC, Australia', 'website': 'https://thedogdazzlers.com.au/?utm_source=GMB&utm_medium=organic'}\n",
      "3070 {'title': 'Dogs of the North', 'phone': '+61 425 717 119', 'rating': '4.9', 'review': '38', 'address': 'Northcote VIC, Australia', 'website': 'http://www.dogsofthenorth.com.au/'}\n",
      "3072 {'title': 'Transpawmers Dog Grooming & Boutique', 'phone': '+61 410 990 344', 'rating': '4.3', 'review': '35', 'address': 'Preston VIC, Australia', 'website': 'https://www.facebook.com/transpawmers/'}\n",
      "3166 {'title': 'Diva Dogs Dog Grooming', 'phone': '+61 421 280 530', 'rating': '4.3', 'review': '57', 'address': 'Oakleigh VIC, Australia', 'website': 'http://www.divadogs.com.au/'}\n",
      "3039 {'title': 'Spa Bark Dog Grooming', 'phone': '+61 3 9370 1749', 'rating': '4.1', 'review': '116', 'address': 'Moonee Ponds VIC, Australia', 'website': 'http://www.spabark.com.au/'}\n",
      "3071 {'title': 'The Dogs Lounge', 'phone': '+61 429 147 755', 'rating': '4.7', 'review': '77', 'address': 'Thornbury VIC, Australia', 'website': 'http://www.thedogslounge.com.au/'}\n",
      "3053 {'title': 'Pet Art Carlton North', 'phone': '--Not Provided--', 'rating': '4.3', 'review': '80', 'address': 'Carlton North VIC, Australia', 'website': 'https://www.petart.net.au/'}\n",
      "3030 {'title': 'Kylies Cat Grooming Services', 'phone': '+61 410 553 835', 'rating': '4.6', 'review': '94', 'address': 'Derrimut VIC, Australia', 'website': 'https://www.kyliescatgroomingservices.com.au/'}\n",
      "3031 {'title': 'Pitter Patter Paws Melbourne', 'phone': '--Not Provided--', 'rating': '4.6', 'review': '109', 'address': 'Flemington VIC, Australia', 'website': 'http://www.pppmelbourne.com.au/'}\n",
      "- {'title': 'Blue Wheelers Caulfield', 'phone': '+61 458 156 063', 'rating': '4.9', 'review': '10', 'address': '--Not Provided--', 'website': 'http://www.bluewheelers.com.au/mobile-dog-grooming/blue-wheelers-caulfield/'}\n",
      "- {'title': 'Paws & Pose', 'phone': '+61 430 378 828', 'rating': '4.8', 'review': '33', 'address': 'Cberwell VIC, Australia', 'website': 'https://pawsandpose.business.site/'}\n",
      "3013 {'title': 'Uncanny Animals', 'phone': '+61 400 640 844', 'rating': '5.0', 'review': '101', 'address': 'Yarraville VIC, Australia', 'website': 'http://uncannyanimals.com/'}\n",
      "3044 {'title': 'Poochi Grooming', 'phone': '+61 478 815 817', 'rating': '4.8', 'review': '36', 'address': 'Pascoe Vale South VIC, Australia', 'website': 'http://www.poochigrooming.com/'}\n",
      "3056 {'title': 'Mostly Mutts Pet Salon', 'phone': '+61 3 9387 4504', 'rating': '4.8', 'review': '42', 'address': 'Brunswick West VIC, Australia', 'website': 'http://www.mmsalonbrunswick.wixsite.com/mostlymutts'}\n",
      "3108 {'title': 'Paw Parlour Dog Grooming Salon', 'phone': '+61 432 118 960', 'rating': '4.9', 'review': '32', 'address': 'Doncaster VIC, Australia', 'website': 'https://www.pawparlourdoggrooming.com/'}\n",
      "3930 {'title': 'The Pink Poodle Dog Grooming', 'phone': '+61 405 412 941', 'rating': '4.7', 'review': '12', 'address': 'Mount Waverley VIC, Australia', 'website': 'http://www.thepinkpoodledoggrooming.com.au/'}\n",
      "3122 {'title': 'Perros Coquetos', 'phone': '+61 3 9818 0947', 'rating': '4.6', 'review': '26', 'address': 'Hawthorn VIC, Australia', 'website': 'http://www.perroscoquetos.com.au/'}\n",
      "3021 {'title': 'Circle of Fluff Dog Grooming', 'phone': '--Not Provided--', 'rating': '5.0', 'review': '62', 'address': 'St Kilda VIC, Australia', 'website': 'https://www.circleoffluff.com.au/'}\n",
      "3103 {'title': 'Simply Stylish Dog Grooming Salon', 'phone': '+61 431 984 684', 'rating': '4.9', 'review': '69', 'address': 'Balwyn North VIC, Australia', 'website': 'http://simplystylishdoggrooming.com.au/'}\n",
      "- {'title': 'Beanfeet Dog Grooming, Doggy Daycare and Pet Store Tullamarine', 'phone': '+61 3 8658 1218', 'rating': '4.3', 'review': '87', 'address': 'Tullarine VIC, Australia', 'website': 'http://www.beanfeetdoggrooming.com.au/'}\n",
      "3011 {'title': 'Doggy Dooz Dog Grooming', 'phone': '+61 3 9687 0299', 'rating': '4.5', 'review': '145', 'address': 'Seddon VIC, Australia', 'website': 'https://doggydooz.com.au/'}\n",
      "3103 {'title': 'Yuppy Puppy Day Spa', 'phone': '+61 3 9888 4993', 'rating': '4.7', 'review': '27', 'address': 'Balwyn North VIC, Australia', 'website': 'https://yuppypuppydayspa.com.au/'}\n",
      "3205 {'title': 'Diggiddydoggydaycare', 'phone': '--Not Provided--', 'rating': '4.7', 'review': '97', 'address': 'South Melbourne VIC, Australia', 'website': 'http://digdog.com.au/'}\n",
      "3150 {'title': 'Animal Mad Dog Grooming', 'phone': '+61 402 736 295', 'rating': '5.0', 'review': '44', 'address': 'Wheelers Hill VIC, Australia', 'website': 'http://www.animalmadpetgrooming.com/'}\n",
      "3161 {'title': 'Loving Lather dog grooming', 'phone': '+61 452 068 251', 'rating': '4.4', 'review': '25', 'address': 'Caulfield South VIC, Australia', 'website': 'http://lovinglather.com.au/'}\n",
      "- {'title': \"Jim's Dog Wash\", 'phone': '--Not Provided--', 'rating': '4.2', 'review': '5', 'address': '--Not Provided--', 'website': 'https://jimsdogwash.net.au/franchisees/kew/'}\n",
      "3056 {'title': 'Wag & Bone Dog Grooming', 'phone': '+61 401 332 762', 'rating': '5.0', 'review': '37', 'address': 'Brunswick VIC, Australia', 'website': 'http://wagandbone.net.au/'}\n",
      "- {'title': 'Local Dog Groomers', 'phone': '+61 3 7018 0705', 'rating': '5.0', 'review': '8', 'address': '--Not Provided--', 'website': 'https://www.localdoggroomers.com.au/'}\n",
      "3106 {'title': 'Qpaw Pet Grooming', 'phone': '+61 478 840 456', 'rating': '4.7', 'review': '39', 'address': 'Templestowe Lower VIC, Australia', 'website': 'https://qpaw-pet-grooming.business.site/?utm_source=gmb&utm_medium=referral'}\n",
      "3037 {'title': 'Shampers Dog Grooming Salon', 'phone': '+61 423 737 356', 'rating': '4.8', 'review': '74', 'address': 'Hillside VIC, Australia', 'website': 'https://shampers-dog-grooming-salon.business.site/?utm_source=gmb&utm_medium=referral'}\n",
      "3058 {'title': \"Aunty Viv's Dog Grooming\", 'phone': '+61 448 438 752', 'rating': '5.0', 'review': '21', 'address': 'Coburg VIC, Australia', 'website': 'http://www.auntyvivsdogs.com.au/'}\n",
      "3071 {'title': 'The Happy Dog Hub', 'phone': '+61 3 9498 6073', 'rating': '5.0', 'review': '33', 'address': 'Thornbury VIC, Australia', 'website': 'https://www.thehappydoghub.com.au/'}\n",
      "3034 {'title': 'Daisy Paw’s dog grooming', 'phone': '+61 408 339 201', 'rating': '5.0', 'review': '10', 'address': 'Avondale Heights VIC, Australia', 'website': 'https://www.daisypawsdoggrooming.com/'}\n",
      "3053 {'title': 'Spitz Groom', 'phone': '+61 477 489 129', 'rating': '5.0', 'review': '62', 'address': 'Carlton North VIC, Australia', 'website': 'http://www.spitzgroom.com.au/'}\n",
      "3068 {'title': 'My Favourite Dog Grooming salon', 'phone': '+61 402 214 167', 'rating': '4.9', 'review': '68', 'address': 'Fitzroy North VIC, Australia', 'website': 'http://myfavouritedogsalon.com/'}\n",
      "- {'title': 'Northern and Western Mobile Dogwash', 'phone': '+61 420 533 534', 'rating': '4.8', 'review': '243', 'address': '--Not Provided--', 'website': 'http://www.northernmobiledogwash.com.au/'}\n",
      "3084 {'title': 'Kate’s Top Dog Grooming of Rosanna', 'phone': '+61 427 040 378', 'rating': '4.5', 'review': '26', 'address': 'Rosanna VIC, Australia', 'website': 'http://www.katestopdoggrooming.com.au/'}\n",
      "3042 {'title': 'Cruizi Jacuzzi Dog Grooming', 'phone': '+61 421 900 090', 'rating': '4.9', 'review': '27', 'address': 'Airport West VIC, Australia', 'website': 'http://cruizijacuzzi.com.au/'}\n",
      "3021 {'title': 'Muddy Dogs - Dog Grooming & Pet Supplies', 'phone': '+61 425 850 842', 'rating': '4.4', 'review': '37', 'address': 'St Albans VIC, Australia', 'website': 'https://www.muddydogspetsupplies.com.au/'}\n",
      "3129 {'title': 'Fluffy Puppies Dog Grooming Pty Ltd', 'phone': '+61 408 184 298', 'rating': '5.0', 'review': '43', 'address': 'Mont Albert North VIC, Australia', 'website': 'http://www.fluffypuppiesgrooming.com.au/'}\n",
      "3150 {'title': 'Clippers Expert Hair Care for Dogs', 'phone': '+61 3 9803 7070', 'rating': '4.9', 'review': '72', 'address': 'Glen Waverley VIC, Australia', 'website': 'http://www.clippersgrooming.com.au/'}\n",
      "3121 {'title': 'Best Friends Pets Richmond', 'phone': '--Not Provided--', 'rating': '4.7', 'review': '169', 'address': 'Richmond VIC, Australia', 'website': 'https://www.bestfriendspets.com.au/store-locator/richmond?utm_source=googlemybusiness&utm_medium=organic&utm_campaign=gmb-website'}\n",
      "3068 {'title': 'Joni & Co', 'phone': '+61 3 9069 9907', 'rating': '4.5', 'review': '37', 'address': 'Fitzroy VIC, Australia', 'website': 'https://www.joniandco.com.au/'}\n",
      "- {'title': 'Carnegie Mobile Dog Groomers', 'phone': '+61 3 8592 4755', 'rating': '4.7', 'review': '6', 'address': '--Not Provided--', 'website': 'https://www.carnegiedoggrooming.com.au/'}\n",
      "3040 {'title': 'AUSDOG Grooming', 'phone': '+61 422 066 816', 'rating': '4.7', 'review': '183', 'address': 'Essendon VIC, Australia', 'website': 'http://www.ausdoggrooming.com.au/'}\n",
      "3018 {'title': 'Smooch Ya Pooch Dog Grooming Salon', 'phone': '+61 412 942 578', 'rating': '4.8', 'review': '35', 'address': 'Altona Meadows VIC, Australia', 'website': 'https://www.smoochyapooch.com.au/'}\n",
      "3181 {'title': 'Miso and me dog spa', 'phone': '+61 434 354 984', 'rating': '5.0', 'review': '15', 'address': 'Prahran VIC, Australia', 'website': 'http://www.misoandmedogspa.com.au/'}\n",
      "- {'title': 'Williamstown Dog Grooming', 'phone': '+61 3 9397 6998', 'rating': '4.1', 'review': '40', 'address': 'Willistown VIC, Australia', 'website': 'http://www.williamstowndoggrooming.com.au/'}\n",
      "- {'title': 'Wagtime Co.', 'phone': '--Not Provided--', 'rating': '5.0', 'review': '18', 'address': 'Cberwell VIC, Australia', 'website': 'http://wagtime.co/'}\n",
      "- {'title': 'Get Fluffed Mobile Dog Grooming', 'phone': '+61 431 554 795', 'rating': '4.6', 'review': '9', 'address': '--Not Provided--', 'website': 'https://www.facebook.com/getfluffedmobiledoggrooming/'}\n",
      "3046 {'title': \"Jeep's Dog Grooming (Glenroy)\", 'phone': '+61 432 289 265', 'rating': '4.6', 'review': '34', 'address': 'Glenroy VIC, Australia', 'website': 'https://www.facebook.com/Jeeps-Dog-Grooming-244150819482399/'}\n",
      "- {'title': \"Jim's Dog Wash\", 'phone': '--Not Provided--', 'rating': '4.3', 'review': '6', 'address': '--Not Provided--', 'website': 'https://jimsdogwash.net.au/franchisees/west-footscray/'}\n",
      "3170 {'title': 'M Dog Grooming Salon', 'phone': '--Not Provided--', 'rating': '4.3', 'review': '29', 'address': 'Mulgrave VIC, Australia', 'website': 'https://mdogsalon.wixsite.com/mdog'}\n",
      "3205 {'title': 'Hachi', 'phone': '+61 435 849 844', 'rating': '4.3', 'review': '86', 'address': 'South Yarra VIC, Australia', 'website': 'http://hachi-melbourne.com.au/'}\n",
      "3150 {'title': 'Furry Tale Pet Grooming', 'phone': '+61 426 391 229', 'rating': '5.0', 'review': '24', 'address': 'Glen Waverley VIC, Australia', 'website': 'https://furrytale.me/'}\n",
      "3056 {'title': 'Salon Sebastian', 'phone': '+61 401 022 186', 'rating': '5.0', 'review': '15', 'address': 'Brunswick VIC, Australia', 'website': 'http://salonsebastian.com.au/'}\n",
      "3056 {'title': 'Dooba Organic DIY Dog Wash', 'phone': '+61 3 9005 7029', 'rating': '4.8', 'review': '42', 'address': 'Brunswick West VIC, Australia', 'website': 'http://www.dooba.com.au/'}\n",
      "3072 {'title': \"Baja's Groomer\", 'phone': '+61 3 9077 7633', 'rating': '4.7', 'review': '19', 'address': 'Preston VIC, Australia', 'website': 'https://bajasgroomer.com/'}\n",
      "3111 {'title': 'Furry Clippers Pet Grooming', 'phone': '+61 401 276 662', 'rating': '5.0', 'review': '23', 'address': 'Donvale VIC, Australia', 'website': 'http://furryclippers.com.au/'}\n",
      "3018 {'title': 'No Woofing Around Dog Grooming', 'phone': '--Not Provided--', 'rating': '4.8', 'review': '20', 'address': 'Altona Meadows VIC, Australia', 'website': 'http://www.facebook.com/nowoofingaround'}\n",
      "3205 {'title': 'Petstock South Melbourne', 'phone': '--Not Provided--', 'rating': '4.5', 'review': '366', 'address': 'South Melbourne VIC, Australia', 'website': 'https://www.petstock.com.au/pages/store/petstock-south-melbourne?utm_source=google&utm_medium=organic&utm_campaign=Google%20My%20Business&utm_content=PETstock%20South%20Melbourne%20-%20South%20Melbourne&utm_term=plcid_7112500915902968053'}\n",
      "3056 {'title': 'Dooba Organic DIY Dog Wash', 'phone': '+61 3 9005 7029', 'rating': '4.8', 'review': '42', 'address': 'Brunswick West VIC, Australia', 'website': 'http://www.dooba.com.au/'}\n",
      "- {'title': 'Howdy Dog Grooming', 'phone': '+61 421 880 408', 'rating': '4.9', 'review': '13', 'address': '--Not Provided--', 'website': 'http://www.howdydoggrooming.com/'}\n",
      "- {'title': 'Get Fluffed Mobile Dog Grooming', 'phone': '+61 431 554 795', 'rating': '4.6', 'review': '9', 'address': '--Not Provided--', 'website': 'https://www.facebook.com/getfluffedmobiledoggrooming/'}\n",
      "3189 {'title': 'Fantastic Felines Cat Grooming', 'phone': '+61 478 970 420', 'rating': '4.9', 'review': '91', 'address': 'Moorabbin VIC, Australia', 'website': 'http://www.fantasticfelines.com.au/'}\n",
      "3079 {'title': \"Belvedere's Pet Supplies & Dog Grooming\", 'phone': '--Not Provided--', 'rating': '4.7', 'review': '40', 'address': 'Ivanhoe VIC, Australia', 'website': 'http://www.belvederespetsupplies.com.au/'}\n",
      "5032 {'title': 'The Grooming Studio', 'phone': '+61 408 133 007', 'rating': '5.0', 'review': '7', 'address': 'Brooklyn VIC, Australia', 'website': 'https://www.fresha.com/a/the-grooming-studio-brooklyn-brooklyn-83-cypress-avenue-s08feufi'}\n",
      "3084 {'title': 'Kate’s Top Dog Grooming of Rosanna', 'phone': '+61 427 040 378', 'rating': '4.5', 'review': '26', 'address': 'Rosanna VIC, Australia', 'website': 'http://www.katestopdoggrooming.com.au/'}\n",
      "3204 {'title': 'Woofers World', 'phone': '--Not Provided--', 'rating': '4.4', 'review': '110', 'address': 'Ormond VIC, Australia', 'website': 'http://www.woofersworld.com.au/'}\n",
      "- {'title': 'Styling Poochies Dog Grooming', 'phone': '+61 433 170 942', 'rating': '5.0', 'review': '10', 'address': 'Sydenh VIC, Australia', 'website': 'http://styling-poochies-dog-grooming.business.site/'}\n",
      "3195 {'title': 'All Paws Pet Grooming', 'phone': '+61 416 522 017', 'rating': '4.3', 'review': '12', 'address': 'Mordialloc VIC, Australia', 'website': 'http://www.allpawspetgrooming.com.au/'}\n",
      "3075 {'title': 'Elegant Dog Grooming Service', 'phone': '+61 421 218 723', 'rating': '4.3', 'review': '15', 'address': 'Lalor VIC, Australia', 'website': 'http://www.elegantdog.com.au/'}\n",
      "- {'title': 'DOGUE Williamstown', 'phone': '+61 3 9975 7443', 'rating': '4.6', 'review': '49', 'address': 'Willistown VIC, Australia', 'website': 'https://dogue.com.au/pet-shops/williamstown/'}\n",
      "- {'title': 'Fresh Pooch Mobile Dog Grooming', 'phone': '+61 404 962 812', 'rating': '5.0', 'review': '3', 'address': '--Not Provided--', 'website': 'https://www.instagram.com/invites/contact/?i=6vwo3fhtnshq&utm_content=mkstznc'}\n",
      "3121 {'title': 'Best Friends Pets Richmond', 'phone': '--Not Provided--', 'rating': '4.7', 'review': '169', 'address': 'Richmond VIC, Australia', 'website': 'https://www.bestfriendspets.com.au/store-locator/richmond?utm_source=googlemybusiness&utm_medium=organic&utm_campaign=gmb-website'}\n",
      "3013 {'title': 'Urban Paws', 'phone': '--Not Provided--', 'rating': '4.7', 'review': '152', 'address': 'Yarraville VIC, Australia', 'website': 'http://www.urbanpaws.com.au/'}\n",
      "3186 {'title': 'DOGUE Brighton', 'phone': '--Not Provided--', 'rating': '4.4', 'review': '124', 'address': 'Brighton VIC, Australia', 'website': 'https://dogue.com.au/pet-shops/brighton/'}\n",
      "3087 {'title': 'Shaggy Tails Dog Grooming', 'phone': '+61 418 147 993', 'rating': '5.0', 'review': '8', 'address': 'Watsonia VIC, Australia', 'website': 'http://www.shaggytails.com.au/'}\n",
      "3084 {'title': 'Big And Small Dog Grooming', 'phone': '+61 416 339 486', 'rating': '5.0', 'review': '9', 'address': 'Eaglemont VIC, Australia', 'website': 'https://www.facebook.com/bigandsmalldoggrooming64/'}\n",
      "- {'title': \"Jim's Dog Wash\", 'phone': '--Not Provided--', 'rating': '4.3', 'review': '6', 'address': '--Not Provided--', 'website': 'https://jimsdogwash.net.au/franchisees/west-footscray/'}\n",
      "3084 {'title': 'Big And Small Dog Grooming', 'phone': '+61 416 339 486', 'rating': '5.0', 'review': '9', 'address': 'Eaglemont VIC, Australia', 'website': 'https://www.facebook.com/bigandsmalldoggrooming64/'}\n",
      "3126 {'title': 'Canterbury Dog Grooming', 'phone': '+61 3 9836 9836', 'rating': '4.4', 'review': '12', 'address': 'Canterbury VIC, Australia', 'website': 'http://www.canterburydoggrooming.com.au/'}\n",
      "3030 {'title': 'Masters Pet Grooming', 'phone': '+61 3 8316 1056', 'rating': '4.5', 'review': '144', 'address': 'Point Cook VIC, Australia', 'website': 'http://www.masterspetgrooming.com.au/'}\n",
      "- {'title': 'DOGUE Williamstown', 'phone': '+61 3 9975 7443', 'rating': '4.6', 'review': '49', 'address': 'Willistown VIC, Australia', 'website': 'https://dogue.com.au/pet-shops/williamstown/'}\n",
      "- {'title': 'Aussie Pooch Mobile Dog Wash Caroline Springs', 'phone': '+61 1300 369 369', 'rating': '4.2', 'review': '6', 'address': '--Not Provided--', 'website': 'https://www.aussiepm.com.au/dog-wash-grooming/caroline-springs'}\n",
      "3075 {'title': 'Elegant Dog Grooming Service', 'phone': '+61 421 218 723', 'rating': '4.3', 'review': '15', 'address': 'Lalor VIC, Australia', 'website': 'http://www.elegantdog.com.au/'}\n",
      "- {'title': 'SUPER AFRO DOG GROOMING', 'phone': '+61 421 485 188', 'rating': '5.0', 'review': '5', 'address': '--Not Provided--', 'website': 'http://superafro.com.au/'}\n",
      "3013 {'title': 'Urban Paws', 'phone': '--Not Provided--', 'rating': '4.7', 'review': '152', 'address': 'Yarraville VIC, Australia', 'website': 'http://www.urbanpaws.com.au/'}\n",
      "3207 {'title': 'Ginger & Gray', 'phone': '+61 435 466 586', 'rating': '5.0', 'review': '117', 'address': 'Port Melbourne VIC, Australia', 'website': 'https://www.gingerandgray.com.au/'}\n",
      "3081 {'title': 'Doggy Dog Grooming', 'phone': '+61 478 290 305', 'rating': '5.0', 'review': '16', 'address': 'Bellfield VIC, Australia', 'website': 'https://www.doggydoggrooming.com.au/'}\n",
      "3186 {'title': 'DOGUE Brighton', 'phone': '--Not Provided--', 'rating': '4.4', 'review': '124', 'address': 'Brighton VIC, Australia', 'website': 'https://dogue.com.au/pet-shops/brighton/'}\n",
      "- {'title': 'Blue Wheelers Beaumaris', 'phone': '+61 421 801 332', 'rating': '4.8', 'review': '5', 'address': '--Not Provided--', 'website': 'https://www.bluewheelers.com.au/mobile-dog-grooming/beaumaris-vic/'}\n",
      "3029 {'title': 'Modern Dog Grooming', 'phone': '+61 466 005 572', 'rating': '5.0', 'review': '7', 'address': 'Tarneit VIC, Australia', 'website': 'http://www.moderndoggrooming.com.au/'}\n",
      "3071 {'title': 'Dog grooming by Nat', 'phone': '+61 420 214 210', 'rating': '5.0', 'review': '20', 'address': 'Thornbury VIC, Australia', 'website': 'https://www.facebook.com/doggroomingbynat/'}\n",
      "3181 {'title': 'Petstock Prahran', 'phone': '--Not Provided--', 'rating': '4.5', 'review': '206', 'address': 'Prahran VIC, Australia', 'website': 'https://www.petstock.com.au/pages/store/petstock-prahran?utm_source=google&utm_medium=organic&utm_campaign=Google%20My%20Business&utm_content=PETstock%20Prahran%20-%20Prahran&utm_term=plcid_4623127972699974805'}\n",
      "2761 {'title': 'Absolute PAWfection Dog Grooming', 'phone': '+61 415 423 822', 'rating': '5.0', 'review': '5', 'address': 'Plumpton VIC, Australia', 'website': 'http://absolutepawfection.com.au/'}\n",
      "3910 {'title': 'Barks & Bubbles Dog Grooming Salon', 'phone': '+61 402 729 722', 'rating': '4.8', 'review': '8', 'address': 'Langwarrin VIC, Australia', 'website': 'https://www.facebook.com/barksandbubblesdoggroomingsalon/'}\n",
      "3031 {'title': 'The Salon at Pitter Patter Paws', 'phone': '+61 493 529 963', 'rating': '5.0', 'review': '9', 'address': 'Flemington VIC, Australia', 'website': 'http://pppmelbourne.com.au/'}\n",
      "- {'title': 'Urban Furdo Pet Styling', 'phone': '+61 435 111 543', 'rating': '5.0', 'review': '4', 'address': '--Not Provided--', 'website': 'https://urban-furdo-pet-styling.square.site/'}\n",
      "3103 {'title': 'LOCAL MOBILE DOG GROOMING SERVICES', 'phone': '+61 430 910 298', 'rating': '5.0', 'review': '2', 'address': 'Balwyn VIC, Australia', 'website': 'https://local-mobile-dog-grooming-services.business.site/?utm_source=gmb&utm_medium=referral'}\n",
      "- {'title': 'Pulse Dog Washing & Grooming Point Cook', 'phone': '+61 484 337 684', 'rating': '5.0', 'review': '2', 'address': '--Not Provided--', 'website': 'https://www.pulsedogwash.com.au/dog-washing-point-cook/'}\n",
      "3168 {'title': 'TopKnotz Dog Grooming', 'phone': '+61 432 611 900', 'rating': '4.0', 'review': '8', 'address': 'Clayton South VIC, Australia', 'website': 'https://www.facebook.com/Topknotz-Dog-Grooming-104679797696300/'}\n",
      "3056 {'title': 'Petbarn', 'phone': '--Not Provided--', 'rating': '4.4', 'review': '277', 'address': 'Brunswick VIC, Australia', 'website': 'https://www.petbarn.com.au/store-finder/brunswick?utm_source=google&utm_medium=organic&utm_campaign=local_seo&utm_term=brunswick'}\n",
      "- {'title': 'Angelic Grooms', 'phone': '+61 406 616 847', 'rating': '5.0', 'review': '4', 'address': '--Not Provided--', 'website': 'https://richardudo.wixsite.com/angelicgrooms'}\n",
      "- {'title': \"Jim's Dog Wash\", 'phone': '--Not Provided--', 'rating': '5.0', 'review': '3', 'address': '--Not Provided--', 'website': 'https://jimsdogwash.net.au/'}\n",
      "- {'title': 'Dooba Organic DIY Dog Wash', 'phone': '+61 3 9005 7029', 'rating': '5.0', 'review': '6', 'address': '--Not Provided--', 'website': 'http://www.dooba.com.au/'}\n",
      "- {'title': 'Pawadise Pets', 'phone': '+61 405 916 997', 'rating': '5.0', 'review': '3', 'address': '--Not Provided--', 'website': 'http://www.pawadisepets.com.au/'}\n",
      "3068 {'title': 'Johnston Street Veterinary Clinic', 'phone': '--Not Provided--', 'rating': '4.7', 'review': '236', 'address': 'Fitzroy VIC, Australia', 'website': 'http://www.jsvet.com.au/'}\n",
      "- {'title': \"Jim's Dog Wash\", 'phone': '--Not Provided--', 'rating': '5.0', 'review': '2', 'address': '--Not Provided--', 'website': 'https://booking.moego.pet/go/?name=JimsDogWashMoorabbin'}\n",
      "- {'title': 'Studio Pets', 'phone': '--Not Provided--', 'rating': '4.7', 'review': '37', 'address': 'Sandringh VIC, Australia', 'website': 'http://facebook.com/studiopets3191'}\n",
      "- {'title': 'Pug Friday and Friends - Mobile Dog Wash', 'phone': '--Not Provided--', 'rating': '5.0', 'review': '2', 'address': '--Not Provided--', 'website': 'http://facebook.com/pugfridayandfriends'}\n",
      "- {'title': 'Angelic Grooms', 'phone': '+61 406 616 847', 'rating': '5.0', 'review': '4', 'address': '--Not Provided--', 'website': 'https://richardudo.wixsite.com/angelicgrooms'}\n",
      "2165 {'title': 'Nellys ark', 'phone': '--Not Provided--', 'rating': '4.9', 'review': '89', 'address': 'Fairfield VIC, Australia', 'website': 'https://www.nellysark.com.au/'}\n",
      "3168 {'title': 'TopKnotz Dog Grooming', 'phone': '+61 432 611 900', 'rating': '4.0', 'review': '8', 'address': 'Clayton South VIC, Australia', 'website': 'https://www.facebook.com/Topknotz-Dog-Grooming-104679797696300/'}\n",
      "3056 {'title': 'Happy Barkday Grooming', 'phone': '+61 426 890 432', 'rating': '5.0', 'review': '4', 'address': 'Brunswick VIC, Australia', 'website': 'https://www.instagram.com/happybarkdaygrooming/'}\n",
      "3040 {'title': \"Fuzz'n Furry Dog grooming\", 'phone': '+61 407 941 866', 'rating': '5.0', 'review': '2', 'address': 'Aberfeldie VIC, Australia', 'website': 'http://facebook.com/fuzznfurry'}\n",
      "4078 {'title': 'A Bathing Hound Dog Grooming', 'phone': '+61 421 479 435', 'rating': '5.0', 'review': '4', 'address': 'Forest Hill VIC, Australia', 'website': 'https://a-bathing-hound.business.site/?utm_source=gmb&utm_medium=referral'}\n",
      "3204 {'title': 'Petstock Ormond', 'phone': '--Not Provided--', 'rating': '4.6', 'review': '404', 'address': 'Ormond VIC, Australia', 'website': 'https://www.petstock.com.au/pages/store/petstock-ormond?utm_source=google&utm_medium=organic&utm_campaign=Google%20My%20Business&utm_content=PETstock%20Ormond%20-%20Ormond&utm_term=plcid_14348122285501736090'}\n",
      "- {'title': 'Aussie Pooch Mobile Altona', 'phone': '+61 430 099 691', 'rating': '5.0', 'review': '1', 'address': '--Not Provided--', 'website': 'https://m.facebook.com/AussiePoochMobileDogWashAltona/'}\n",
      "3103 {'title': 'LOCAL MOBILE DOG GROOMING SERVICES', 'phone': '+61 430 910 298', 'rating': '5.0', 'review': '2', 'address': 'Balwyn VIC, Australia', 'website': 'https://local-mobile-dog-grooming-services.business.site/?utm_source=gmb&utm_medium=referral'}\n",
      "3038 {'title': 'The Doggy Grooming Room', 'phone': '+61 413 197 655', 'rating': '5.0', 'review': '2', 'address': 'Taylors Hill VIC, Australia', 'website': 'https://m.facebook.com/doggygroomingroom/'}\n",
      "- {'title': 'kates wags dog grooming', 'phone': '+61 415 229 189', 'rating': '5.0', 'review': '2', 'address': 'Sydenh VIC, Australia', 'website': 'https://www.facebook.com/W.A.G.Swesternanimalgroomingservices'}\n",
      "3068 {'title': 'Johnston Street Veterinary Clinic', 'phone': '--Not Provided--', 'rating': '4.7', 'review': '236', 'address': 'Fitzroy VIC, Australia', 'website': 'http://www.jsvet.com.au/'}\n",
      "- {'title': 'Pet Sitting Melbourne | Mad Paws | Overnight & Daytime Pet Care', 'phone': '--Not Provided--', 'rating': '4.4', 'review': '290', 'address': '--Not Provided--', 'website': 'https://www.madpaws.com.au/petsitters/melbourne-vic'}\n",
      "- {'title': 'Hound Around Town - Mobile Dog Grooming', 'phone': '--Not Provided--', 'rating': '5.0', 'review': '6', 'address': '--Not Provided--', 'website': 'https://www.facebook.com/houndaroundtowngrooming'}\n"
     ]
    }
   ],
   "source": [
    "post_url = 'https://www.geonames.org/postal-codes/postal-codes-australia.html'\n",
    "\n",
    "for data in data_list:\n",
    "    address_text = data['address']\n",
    "    if address_text == '--Not Provided--':\n",
    "        post_code = '-'\n",
    "    else:\n",
    "        suburb = re.search(r'\\A[A-Za-z]+\\b', address_text).group()\n",
    "    \n",
    "        with genBrowser() as chrome:\n",
    "            chrome.get(post_url)\n",
    "            wait_for(1)\n",
    "            \n",
    "            input_field = chrome.find_element(By.CSS_SELECTOR, 'form[action=\"/postalcode-search.html?\"] > input[name=\"q\"]')\n",
    "            submit_btn = chrome.find_element(By.CSS_SELECTOR, 'form[action=\"/postalcode-search.html?\"] > input[type=\"submit\"]')\n",
    "\n",
    "            input_field.send_keys(suburb)\n",
    "            # wait_for(1)\n",
    "            Action(chrome).move_to_element(submit_btn).click().perform()\n",
    "            wait_for(2)\n",
    "            try:\n",
    "                post_code = chrome.find_element(By.CSS_SELECTOR, 'table.restable tr:nth-child(2) > td:nth-child(3)').text\n",
    "            except:\n",
    "                post_code = '-'\n",
    "\n",
    "    print(post_code, data)\n",
    "\n",
    "    new_data = data.copy()\n",
    "    new_data['post_code'] = post_code\n",
    "    # print(new_data)\n",
    "\n",
    "    new_data_list.append(new_data)"
   ]
  },
  {
   "cell_type": "code",
   "execution_count": 7,
   "metadata": {},
   "outputs": [
    {
     "data": {
      "text/plain": [
       "150"
      ]
     },
     "execution_count": 7,
     "metadata": {},
     "output_type": "execute_result"
    }
   ],
   "source": [
    "len(new_data_list)"
   ]
  },
  {
   "cell_type": "code",
   "execution_count": 8,
   "metadata": {},
   "outputs": [
    {
     "name": "stdout",
     "output_type": "stream",
     "text": [
      "dog_groomers-melbourne\n"
     ]
    }
   ],
   "source": [
    "print(file_name)"
   ]
  },
  {
   "cell_type": "code",
   "execution_count": 9,
   "metadata": {},
   "outputs": [
    {
     "name": "stdout",
     "output_type": "stream",
     "text": [
      "--Data Saved as JSON file!\n",
      "--Data Saved as CSV file!\n"
     ]
    }
   ],
   "source": [
    "exportData(file_name, new_data_list)"
   ]
  },
  {
   "cell_type": "code",
   "execution_count": null,
   "metadata": {},
   "outputs": [],
   "source": []
  }
 ],
 "metadata": {
  "kernelspec": {
   "display_name": ".venv",
   "language": "python",
   "name": "python3"
  },
  "language_info": {
   "codemirror_mode": {
    "name": "ipython",
    "version": 3
   },
   "file_extension": ".py",
   "mimetype": "text/x-python",
   "name": "python",
   "nbconvert_exporter": "python",
   "pygments_lexer": "ipython3",
   "version": "3.11.3"
  },
  "orig_nbformat": 4
 },
 "nbformat": 4,
 "nbformat_minor": 2
}
